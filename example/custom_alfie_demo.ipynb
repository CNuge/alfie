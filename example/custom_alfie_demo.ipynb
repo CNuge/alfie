{
 "cells": [
  {
   "cell_type": "markdown",
   "metadata": {},
   "source": [
    "A user can train a custom model to suit their own purposes, common choices may be to train a classifier for a sub-group of interest (i.e. an mollusca classifier similar to the annelid example we are constructing here) or a binary classifier to isolate barcodes from a specific taxonomy group (i.e. a classifier that says whether an input sequence is or is not from a teleost fish)."
   ]
  },
  {
   "cell_type": "code",
   "execution_count": 1,
   "metadata": {},
   "outputs": [],
   "source": [
    "import pandas as pd"
   ]
  },
  {
   "cell_type": "code",
   "execution_count": 4,
   "metadata": {},
   "outputs": [],
   "source": [
    "data = pd.read_csv('../alfie/data/alfie_small_train_example.tsv', sep = '\\t')"
   ]
  },
  {
   "cell_type": "code",
   "execution_count": 5,
   "metadata": {},
   "outputs": [
    {
     "data": {
      "text/html": [
       "<div>\n",
       "<style scoped>\n",
       "    .dataframe tbody tr th:only-of-type {\n",
       "        vertical-align: middle;\n",
       "    }\n",
       "\n",
       "    .dataframe tbody tr th {\n",
       "        vertical-align: top;\n",
       "    }\n",
       "\n",
       "    .dataframe thead th {\n",
       "        text-align: right;\n",
       "    }\n",
       "</style>\n",
       "<table border=\"1\" class=\"dataframe\">\n",
       "  <thead>\n",
       "    <tr style=\"text-align: right;\">\n",
       "      <th></th>\n",
       "      <th>processid</th>\n",
       "      <th>sequence</th>\n",
       "      <th>phylum</th>\n",
       "      <th>class</th>\n",
       "      <th>order</th>\n",
       "      <th>family</th>\n",
       "      <th>genus</th>\n",
       "    </tr>\n",
       "  </thead>\n",
       "  <tbody>\n",
       "    <tr>\n",
       "      <td>0</td>\n",
       "      <td>GAHAP309-13</td>\n",
       "      <td>accttatactttattctgggcgtatgagcaggaatattgggtgcag...</td>\n",
       "      <td>Annelida</td>\n",
       "      <td>Clitellata</td>\n",
       "      <td>Enchytraeida</td>\n",
       "      <td>Enchytraeidae</td>\n",
       "      <td>Grania</td>\n",
       "    </tr>\n",
       "    <tr>\n",
       "      <td>1</td>\n",
       "      <td>GAHAP2002-14</td>\n",
       "      <td>accctatatttcattctcggagtttgagctggcatagtaggtgccg...</td>\n",
       "      <td>Annelida</td>\n",
       "      <td>Clitellata</td>\n",
       "      <td>Haplotaxida</td>\n",
       "      <td>Lumbricidae</td>\n",
       "      <td>Aporrectodea</td>\n",
       "    </tr>\n",
       "    <tr>\n",
       "      <td>2</td>\n",
       "      <td>GBAN15302-19</td>\n",
       "      <td>actctatacttaatttttggtatt-gagccggtatagtaggaacag...</td>\n",
       "      <td>Annelida</td>\n",
       "      <td>Clitellata</td>\n",
       "      <td>Haplotaxida</td>\n",
       "      <td>Naididae</td>\n",
       "      <td>Ainudrilus</td>\n",
       "    </tr>\n",
       "    <tr>\n",
       "      <td>3</td>\n",
       "      <td>GBAN11905-19</td>\n",
       "      <td>acactatattttattttaggaatttgagctggaataattggagcag...</td>\n",
       "      <td>Annelida</td>\n",
       "      <td>Clitellata</td>\n",
       "      <td>Crassiclitellata</td>\n",
       "      <td>Megascolecidae</td>\n",
       "      <td>Metaphire</td>\n",
       "    </tr>\n",
       "    <tr>\n",
       "      <td>4</td>\n",
       "      <td>GBAN15299-19</td>\n",
       "      <td>acattatacctaattta-ggtgtatgagccggaatagttggaacag...</td>\n",
       "      <td>Annelida</td>\n",
       "      <td>Clitellata</td>\n",
       "      <td>Haplotaxida</td>\n",
       "      <td>Naididae</td>\n",
       "      <td>Ainudrilus</td>\n",
       "    </tr>\n",
       "  </tbody>\n",
       "</table>\n",
       "</div>"
      ],
      "text/plain": [
       "      processid                                           sequence    phylum  \\\n",
       "0   GAHAP309-13  accttatactttattctgggcgtatgagcaggaatattgggtgcag...  Annelida   \n",
       "1  GAHAP2002-14  accctatatttcattctcggagtttgagctggcatagtaggtgccg...  Annelida   \n",
       "2  GBAN15302-19  actctatacttaatttttggtatt-gagccggtatagtaggaacag...  Annelida   \n",
       "3  GBAN11905-19  acactatattttattttaggaatttgagctggaataattggagcag...  Annelida   \n",
       "4  GBAN15299-19  acattatacctaattta-ggtgtatgagccggaatagttggaacag...  Annelida   \n",
       "\n",
       "        class             order          family         genus  \n",
       "0  Clitellata      Enchytraeida   Enchytraeidae        Grania  \n",
       "1  Clitellata       Haplotaxida     Lumbricidae  Aporrectodea  \n",
       "2  Clitellata       Haplotaxida        Naididae    Ainudrilus  \n",
       "3  Clitellata  Crassiclitellata  Megascolecidae     Metaphire  \n",
       "4  Clitellata       Haplotaxida        Naididae    Ainudrilus  "
      ]
     },
     "execution_count": 5,
     "metadata": {},
     "output_type": "execute_result"
    }
   ],
   "source": [
    "data.head()"
   ]
  },
  {
   "cell_type": "markdown",
   "metadata": {},
   "source": [
    "For similicity, the demo is conducted with 10,000 sequences from the phylum Annelida, which has only two classes. We will train a model to predict the class for Annelida sequences. \n"
   ]
  },
  {
   "cell_type": "code",
   "execution_count": 6,
   "metadata": {},
   "outputs": [
    {
     "data": {
      "text/plain": [
       "Clitellata    6187\n",
       "Polychaeta    3813\n",
       "Name: class, dtype: int64"
      ]
     },
     "execution_count": 6,
     "metadata": {},
     "output_type": "execute_result"
    }
   ],
   "source": [
    "data['class'].value_counts()"
   ]
  },
  {
   "cell_type": "code",
   "execution_count": null,
   "metadata": {},
   "outputs": [],
   "source": []
  }
 ],
 "metadata": {
  "kernelspec": {
   "display_name": "Python 3",
   "language": "python",
   "name": "python3"
  },
  "language_info": {
   "codemirror_mode": {
    "name": "ipython",
    "version": 3
   },
   "file_extension": ".py",
   "mimetype": "text/x-python",
   "name": "python",
   "nbconvert_exporter": "python",
   "pygments_lexer": "ipython3",
   "version": "3.7.4"
  }
 },
 "nbformat": 4,
 "nbformat_minor": 2
}
